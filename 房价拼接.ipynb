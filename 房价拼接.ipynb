{
 "cells": [
  {
   "cell_type": "code",
   "execution_count": 3,
   "metadata": {},
   "outputs": [],
   "source": [
    "\n",
    "import pandas as pd\n",
    "import os\n",
    "#遍历目录下所有文件\n",
    "list1 = [] #文件名列表\n",
    "list2 = [] #df列表\n",
    "folder_list = os.listdir('/Users/19723/Desktop/尊觉投资实习/尊觉投资 - 房产资料/房价/新房数据//')#   folder_path为此时文件路径          lisidir 获取路径中的文件夹中的每个文件           \n",
    "for folder in folder_list:#遍历里面每个文件\n",
    "    new_folder_path = os.path.join('/Users/19723/Desktop/尊觉投资实习/尊觉投资 - 房产资料/房价/新房数据//', folder)        #根据子文件夹，生成新的路径   path.join 为前面的folder_path+后面的folder  例如：C:\\CHE\\+ 1.txt = C:\\CHE\\1.txt  即遍历后获取每个txt文件的绝对路径                   \n",
    "    list1.append(new_folder_path)\n",
    "\n",
    "for i in range(0, 13): # df1-13 变量名称赋值\n",
    "     locals()['df'+str(i)] = pd.read_csv(list1[i])\n",
    "     list2.append(locals()['df'+str(i)])\n",
    "\n",
    "df = pd.concat(list2)\n",
    "# df = df.sort_values(['ad'], axis=0, ascending=True, inplace=False, kind='quicksort', na_position='last')\n",
    "# df['address-info1'] = df['address-info1'].str.replace(',','')\n",
    "df2 = df.drop(columns=['采集时间', '全部图片url', '户型图', '热评人', '页面网址'])\n",
    "df2.to_csv('/Users/19723/Desktop/tett.csv', encoding='UTF-8')"
   ]
  },
  {
   "cell_type": "code",
   "execution_count": 8,
   "metadata": {},
   "outputs": [],
   "source": [
    "\n",
    "import pandas as pd\n",
    "import os\n",
    "#遍历目录下所有文件\n",
    "list1 = [] #文件名列表\n",
    "list2 = [] #df列表\n",
    "folder_list = os.listdir('/Users/19723/Desktop/尊觉投资实习/尊觉投资 - 房产资料/房价/lianjia ershoufang//')#   folder_path为此时文件路径          lisidir 获取路径中的文件夹中的每个文件           \n",
    "for folder in folder_list:#遍历里面每个文件\n",
    "    new_folder_path = os.path.join('/Users/19723/Desktop/尊觉投资实习/尊觉投资 - 房产资料/房价/lianjia ershoufang//', folder)        #根据子文件夹，生成新的路径   path.join 为前面的folder_path+后面的folder  例如：C:\\CHE\\+ 1.txt = C:\\CHE\\1.txt  即遍历后获取每个txt文件的绝对路径                   \n",
    "    list1.append(new_folder_path)\n",
    "\n",
    "for i in range(0, 4): # df1-13 变量名称赋值\n",
    "     locals()['df'+str(i)] = pd.read_csv(list1[i])\n",
    "     list2.append(locals()['df'+str(i)])\n",
    "\n",
    "df = pd.concat(list2)\n",
    "# df = df.sort_values(['ad'], axis=0, ascending=True, inplace=False, kind='quicksort', na_position='last')\n",
    "# df['address-info1'] = df['address-info1'].str.replace(',','')\n",
    "df2 = df.drop(columns=['链家编号', '房源图片', '房源特色', '页面网址'])\n",
    "df2.to_csv('/Users/19723/Desktop/tett11.csv', encoding='UTF-8')"
   ]
  },
  {
   "cell_type": "code",
   "execution_count": null,
   "metadata": {},
   "outputs": [],
   "source": []
  }
 ],
 "metadata": {
  "kernelspec": {
   "display_name": "Python 3",
   "language": "python",
   "name": "python3"
  },
  "language_info": {
   "codemirror_mode": {
    "name": "ipython",
    "version": 3
   },
   "file_extension": ".py",
   "mimetype": "text/x-python",
   "name": "python",
   "nbconvert_exporter": "python",
   "pygments_lexer": "ipython3",
   "version": "3.8.3"
  }
 },
 "nbformat": 4,
 "nbformat_minor": 4
}
